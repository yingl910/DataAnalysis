{
 "cells": [
  {
   "cell_type": "markdown",
   "metadata": {},
   "source": [
    "### Data Analysis with Gateway Transaction Data"
   ]
  },
  {
   "cell_type": "markdown",
   "metadata": {},
   "source": [
    "### Read Data"
   ]
  },
  {
   "cell_type": "code",
   "execution_count": 1,
   "metadata": {
    "collapsed": false
   },
   "outputs": [],
   "source": [
    "import csv\n",
    "\n",
    "def parse_csv(datafile):\n",
    "    data = []\n",
    "    with open(datafile, \"r\") as sd:\n",
    "        r = csv.DictReader(sd)\n",
    "        for line in r:\n",
    "            data.append(line)\n",
    "\n",
    "    return data\n",
    "\n",
    "gw_data = parse_csv('gateway.csv')"
   ]
  },
  {
   "cell_type": "markdown",
   "metadata": {},
   "source": [
    "### QA. Success Rates"
   ]
  },
  {
   "cell_type": "code",
   "execution_count": 2,
   "metadata": {
    "collapsed": false
   },
   "outputs": [
    {
     "name": "stdout",
     "output_type": "stream",
     "text": [
      "Total Number for each transaction type:\n",
      "Counter({'Purchase': 3430, 'Authorization': 1400, 'Credit': 170})\n",
      "Total Succeeded Number for each transaction type:\n",
      "Counter({'Purchase': 1421, 'Authorization': 470, 'Credit': 75})\n",
      "\n",
      "\n",
      "Total Number for each gateway:\n",
      "Counter({'GB': 4308, 'GA': 692})\n",
      "Total Succeeded Number for each gateway:\n",
      "Counter({'GB': 1595, 'GA': 371})\n",
      "\n",
      "\n",
      "Total Number for each transaction type of GA:\n",
      "{'Credit': 14, 'Authorization': 151, 'Purchase': 527}\n",
      "Total Succeeded Number for each transaction type of GA:\n",
      "{'Credit': 9, 'Authorization': 19, 'Purchase': 343}\n",
      "\n",
      "\n",
      "Total Number for each transaction type of GB:\n",
      "{'Credit': 156, 'Authorization': 1249, 'Purchase': 2903}\n",
      "Total Succeeded Number for each transaction type of GB:\n",
      "{'Credit': 66, 'Authorization': 451, 'Purchase': 1078}\n",
      "\n",
      "\n"
     ]
    }
   ],
   "source": [
    "from collections import Counter\n",
    "\n",
    "transaction_type = []\n",
    "gateway = []\n",
    "\n",
    "transaction_succ = []\n",
    "gateway_succ = []\n",
    "\n",
    "unique_transaction = set()\n",
    "\n",
    "ga_data = {}\n",
    "gb_data = {}\n",
    "ga_data_succ = {}\n",
    "gb_data_succ = {}\n",
    "\n",
    "transaction_succ_rate = {}\n",
    "gateway_succ_rate = {}\n",
    "ga_succ_rate = {}\n",
    "gb_succ_rate = {}\n",
    "\n",
    "for i in gw_data:\n",
    "    transaction_type.append(i['transaction_type'])\n",
    "    gateway.append(i['gateway'])\n",
    "    \n",
    "    unique_transaction.add(i['transaction_type'])\n",
    "    \n",
    "    if i['status']=='succeeded':\n",
    "        transaction_succ.append(i['transaction_type'])\n",
    "        gateway_succ.append(i['gateway'])\n",
    "        \n",
    "# calculate the total number of each transaction type and gateway\n",
    "transaction_count = Counter(transaction_type)\n",
    "gateway_count = Counter(gateway)\n",
    "\n",
    "# calculate the succeeded number of each transaction type and gateway\n",
    "transaction_succ_count = Counter(transaction_succ)\n",
    "gateway_succ_count = Counter(gateway_succ)\n",
    "\n",
    "# calculate the total and succeeded number for each transaction type and each gateway\n",
    "for i in unique_transaction:\n",
    "    ga_data[i] = 0\n",
    "    gb_data[i] = 0\n",
    "    ga_data_succ[i] = 0\n",
    "    gb_data_succ[i] = 0\n",
    "\n",
    "for i in gw_data:\n",
    "    if i['gateway'] == 'GA':\n",
    "        ga_data[i['transaction_type']] += 1\n",
    "        if i['status'] == 'succeeded':\n",
    "            ga_data_succ[i['transaction_type']] += 1\n",
    "            \n",
    "    if i['gateway'] == 'GB':\n",
    "        gb_data[i['transaction_type']] += 1\n",
    "        if i['status'] == 'succeeded':\n",
    "            gb_data_succ[i['transaction_type']] += 1\n",
    "\n",
    "# calcualte success rate\n",
    "for key in transaction_count.keys():\n",
    "    transaction_succ_rate[key] = round(transaction_succ_count[key]/transaction_count[key],2)\n",
    "    \n",
    "for key in gateway_count.keys():\n",
    "    gateway_succ_rate[key] = round(gateway_succ_count[key]/gateway_count[key],2)\n",
    "\n",
    "for key in ga_data.keys():\n",
    "    ga_succ_rate[key] = round(ga_data_succ[key]/ga_data[key],2)\n",
    "\n",
    "for key in gb_data.keys():\n",
    "    gb_succ_rate[key] = round(gb_data_succ[key]/gb_data[key],2)\n",
    "    \n",
    "print('Total Number for each transaction type:')\n",
    "print(transaction_count)\n",
    "print('Total Succeeded Number for each transaction type:')\n",
    "print(transaction_succ_count)\n",
    "print('\\n')\n",
    "\n",
    "print('Total Number for each gateway:')\n",
    "print(gateway_count)\n",
    "print('Total Succeeded Number for each gateway:')\n",
    "print(gateway_succ_count)\n",
    "print('\\n')\n",
    "\n",
    "print('Total Number for each transaction type of GA:')\n",
    "print(ga_data)\n",
    "print('Total Succeeded Number for each transaction type of GA:')\n",
    "print(ga_data_succ)\n",
    "print('\\n')\n",
    "\n",
    "print('Total Number for each transaction type of GB:')\n",
    "print(gb_data)\n",
    "print('Total Succeeded Number for each transaction type of GB:')\n",
    "print(gb_data_succ)\n",
    "print('\\n')"
   ]
  },
  {
   "cell_type": "markdown",
   "metadata": {},
   "source": [
    "### QA Answer"
   ]
  },
  {
   "cell_type": "code",
   "execution_count": 3,
   "metadata": {
    "collapsed": false
   },
   "outputs": [
    {
     "name": "stdout",
     "output_type": "stream",
     "text": [
      "Success Rate for each transaction type:\n",
      "{'Credit': 0.44, 'Authorization': 0.34, 'Purchase': 0.41}\n",
      "\n",
      "\n",
      "Success Rate for each gateway:\n",
      "{'GB': 0.37, 'GA': 0.54}\n",
      "\n",
      "\n",
      "Success Rate for each transaction type of GA:\n",
      "{'Credit': 0.64, 'Authorization': 0.13, 'Purchase': 0.65}\n",
      "\n",
      "\n",
      "Success Rate for transaction type of GB:\n",
      "{'Credit': 0.42, 'Authorization': 0.36, 'Purchase': 0.37}\n",
      "\n",
      "\n"
     ]
    }
   ],
   "source": [
    "print('Success Rate for each transaction type:')\n",
    "print(transaction_succ_rate)\n",
    "print('\\n')\n",
    "\n",
    "print('Success Rate for each gateway:')\n",
    "print(gateway_succ_rate)\n",
    "print('\\n')\n",
    "\n",
    "print('Success Rate for each transaction type of GA:')\n",
    "print(ga_succ_rate)\n",
    "print('\\n')\n",
    "\n",
    "print('Success Rate for transaction type of GB:')\n",
    "print(gb_succ_rate)\n",
    "print('\\n')"
   ]
  },
  {
   "cell_type": "markdown",
   "metadata": {},
   "source": [
    "### QB. What is the monthly success rate for purchases? "
   ]
  },
  {
   "cell_type": "code",
   "execution_count": 4,
   "metadata": {
    "collapsed": false
   },
   "outputs": [
    {
     "name": "stdout",
     "output_type": "stream",
     "text": [
      "Monthly Total Purchase for GA ('month',purchase):\n",
      "[('01', 19), ('02', 20), ('03', 36), ('04', 20), ('05', 44), ('06', 34), ('07', 21), ('08', 31), ('09', 23), ('10', 71), ('11', 192), ('12', 16)]\n",
      "Monthly Succeeded Purchase for GA ('month',purchase):\n",
      "[('01', 8), ('02', 16), ('03', 28), ('04', 15), ('05', 29), ('06', 30), ('07', 11), ('08', 25), ('09', 17), ('10', 41), ('11', 111), ('12', 12)]\n",
      "\n",
      "\n",
      "Monthly Total Purchase for GB ('month',purchase):\n",
      "[('01', 96), ('02', 97), ('03', 165), ('04', 247), ('05', 302), ('06', 447), ('07', 326), ('08', 256), ('09', 335), ('10', 370), ('11', 193), ('12', 69)]\n",
      "Monthly Succeeded Purchase for GB ('month',purchase):\n",
      "[('01', 41), ('02', 41), ('03', 52), ('04', 81), ('05', 86), ('06', 107), ('07', 116), ('08', 119), ('09', 153), ('10', 178), ('11', 64), ('12', 40)]\n"
     ]
    }
   ],
   "source": [
    "import time\n",
    "\n",
    "purchase_ga = []\n",
    "purchase_gb = []\n",
    "purchase_succ_ga = []\n",
    "purchase_succ_gb = []\n",
    "for i in gw_data:\n",
    "    # extract month from epoch_date\n",
    "    i['month'] = time.strftime(\"%m\", time.gmtime(float(i['epoch_date'])))\n",
    "    if i['transaction_type'] == 'Purchase' and i['gateway'] == 'GA':\n",
    "        purchase_ga.append(i['month'])\n",
    "        if i['status'] == 'succeeded':\n",
    "            purchase_succ_ga.append(i['month'])\n",
    "    if i['transaction_type'] == 'Purchase' and i['gateway'] == 'GB':\n",
    "        purchase_gb.append(i['month'])\n",
    "        if i['status'] == 'succeeded':\n",
    "            purchase_succ_gb.append(i['month'])\n",
    "\n",
    "# calculate monthly GA,GB total purchase\n",
    "purchase_count_ga = Counter(purchase_ga)\n",
    "purchase_count_gb = Counter(purchase_gb)\n",
    "\n",
    "# calculate monthly GA,GB succeeded purchase\n",
    "purchase_succ_count_ga = Counter(purchase_succ_ga)\n",
    "purchase_succ_count_gb = Counter(purchase_succ_gb)\n",
    "\n",
    "purchase_succ_rate_ga = {}\n",
    "purchase_succ_rate_gb = {}\n",
    "\n",
    "for key in purchase_count_ga.keys():\n",
    "    purchase_succ_rate_ga[key] = round(purchase_succ_count_ga[key]/purchase_count_ga[key],2)\n",
    "\n",
    "for key in purchase_count_gb.keys():\n",
    "    purchase_succ_rate_gb[key] = round(purchase_succ_count_gb[key]/purchase_count_gb[key],2) \n",
    "\n",
    "print('Monthly Total Purchase for GA (\\'month\\',purchase):')\n",
    "print(sorted(purchase_count_ga.items()))\n",
    "print('Monthly Succeeded Purchase for GA (\\'month\\',purchase):')\n",
    "print(sorted(purchase_succ_count_ga.items()))\n",
    "print('\\n')\n",
    "\n",
    "print('Monthly Total Purchase for GB (\\'month\\',purchase):')\n",
    "print(sorted(purchase_count_gb.items()))\n",
    "print('Monthly Succeeded Purchase for GB (\\'month\\',purchase):')\n",
    "print(sorted(purchase_succ_count_gb.items()))\n"
   ]
  },
  {
   "cell_type": "markdown",
   "metadata": {},
   "source": [
    "### QB Answer"
   ]
  },
  {
   "cell_type": "code",
   "execution_count": 5,
   "metadata": {
    "collapsed": false
   },
   "outputs": [
    {
     "name": "stdout",
     "output_type": "stream",
     "text": [
      "Monthly Success Rate for GA ('month',rate):\n",
      "[('01', 0.42), ('02', 0.8), ('03', 0.78), ('04', 0.75), ('05', 0.66), ('06', 0.88), ('07', 0.52), ('08', 0.81), ('09', 0.74), ('10', 0.58), ('11', 0.58), ('12', 0.75)]\n",
      "\n",
      "\n",
      "Monthly Success Rate for GB ('month',rate):\n",
      "[('01', 0.43), ('02', 0.42), ('03', 0.32), ('04', 0.33), ('05', 0.28), ('06', 0.24), ('07', 0.36), ('08', 0.46), ('09', 0.46), ('10', 0.48), ('11', 0.33), ('12', 0.58)]\n",
      "\n",
      "\n"
     ]
    },
    {
     "data": {
      "text/plain": [
       "<matplotlib.legend.Legend at 0x10cedea90>"
      ]
     },
     "execution_count": 5,
     "metadata": {},
     "output_type": "execute_result"
    },
    {
     "data": {
      "image/png": "[encoded data removed]",
      "text/plain": [
       "<matplotlib.figure.Figure at 0x109b97eb8>"
      ]
     },
     "metadata": {},
     "output_type": "display_data"
    }
   ],
   "source": [
    "print('Monthly Success Rate for GA (\\'month\\',rate):')\n",
    "print(sorted(purchase_succ_rate_ga.items()))\n",
    "print('\\n')\n",
    "\n",
    "print('Monthly Success Rate for GB (\\'month\\',rate):')\n",
    "print(sorted(purchase_succ_rate_gb.items()))\n",
    "print('\\n')\n",
    "\n",
    "import matplotlib.pyplot as plt \n",
    "%matplotlib inline\n",
    "import numpy as np\n",
    "\n",
    "plt.plot(*zip(*sorted(purchase_succ_rate_ga.items())),label='GA')\n",
    "plt.plot(*zip(*sorted(purchase_succ_rate_gb.items())),label='GB')\n",
    "plt.xlabel('Month')\n",
    "plt.ylabel('Success Rate')\n",
    "plt.legend(bbox_to_anchor=(1.05, 1), loc=2, borderaxespad=0.)\n",
    "                           "
   ]
  },
  {
   "cell_type": "markdown",
   "metadata": {},
   "source": []
  },
  {
   "cell_type": "markdown",
   "metadata": {},
   "source": []
  }
 ],
 "metadata": {
  "anaconda-cloud": {},
  "kernelspec": {
   "display_name": "Python [Root]",
   "language": "python",
   "name": "Python [Root]"
  },
  "language_info": {
   "codemirror_mode": {
    "name": "ipython",
    "version": 3
   },
   "file_extension": ".py",
   "mimetype": "text/x-python",
   "name": "python",
   "nbconvert_exporter": "python",
   "pygments_lexer": "ipython3",
   "version": "3.5.2"
  }
 },
 "nbformat": 4,
 "nbformat_minor": 0
}
